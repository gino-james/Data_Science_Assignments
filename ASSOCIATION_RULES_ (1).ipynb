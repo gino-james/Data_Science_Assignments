{
  "nbformat": 4,
  "nbformat_minor": 0,
  "metadata": {
    "colab": {
      "provenance": []
    },
    "kernelspec": {
      "name": "python3",
      "display_name": "Python 3"
    },
    "language_info": {
      "name": "python"
    }
  },
  "cells": [
    {
      "cell_type": "code",
      "source": [
        "import pandas as pd\n",
        "\n",
        "# Load the Excel file\n",
        "data = pd.read_excel('Online retail.xlsx')\n",
        "\n",
        "# Preview the dataset\n",
        "print(data.head())"
      ],
      "metadata": {
        "colab": {
          "base_uri": "https://localhost:8080/"
        },
        "id": "Do_siqfkMbcv",
        "outputId": "2bbe7fb2-b9bf-4c6c-c9d7-7316f296d529"
      },
      "execution_count": 21,
      "outputs": [
        {
          "output_type": "stream",
          "name": "stdout",
          "text": [
            "  shrimp,almonds,avocado,vegetables mix,green grapes,whole weat flour,yams,cottage cheese,energy drink,tomato juice,low fat yogurt,green tea,honey,salad,mineral water,salmon,antioxydant juice,frozen smoothie,spinach,olive oil\n",
            "0                             burgers,meatballs,eggs                                                                                                                                                                             \n",
            "1                                            chutney                                                                                                                                                                             \n",
            "2                                     turkey,avocado                                                                                                                                                                             \n",
            "3  mineral water,milk,energy bar,whole wheat rice...                                                                                                                                                                             \n",
            "4                                     low fat yogurt                                                                                                                                                                             \n"
          ]
        }
      ]
    },
    {
      "cell_type": "code",
      "source": [
        "# Convert the data into a list of transactions\n",
        "transactions = [transaction.split(',') for transaction in data]"
      ],
      "metadata": {
        "id": "hhT2enLHODag"
      },
      "execution_count": 22,
      "outputs": []
    },
    {
      "cell_type": "code",
      "source": [
        "print(transactions[:5])"
      ],
      "metadata": {
        "colab": {
          "base_uri": "https://localhost:8080/"
        },
        "id": "gsECIn8wOJts",
        "outputId": "845a32fc-74a3-4a16-99d4-394c1e8a94ce"
      },
      "execution_count": 23,
      "outputs": [
        {
          "output_type": "stream",
          "name": "stdout",
          "text": [
            "[['shrimp', 'almonds', 'avocado', 'vegetables mix', 'green grapes', 'whole weat flour', 'yams', 'cottage cheese', 'energy drink', 'tomato juice', 'low fat yogurt', 'green tea', 'honey', 'salad', 'mineral water', 'salmon', 'antioxydant juice', 'frozen smoothie', 'spinach', 'olive oil']]\n"
          ]
        }
      ]
    },
    {
      "cell_type": "code",
      "source": [
        "from mlxtend.preprocessing import TransactionEncoder"
      ],
      "metadata": {
        "id": "Ip6khQqXONms"
      },
      "execution_count": 24,
      "outputs": []
    },
    {
      "cell_type": "code",
      "source": [
        "# Initialize the transaction encoder\n",
        "te = TransactionEncoder()"
      ],
      "metadata": {
        "id": "gkx1zJ1NORU2"
      },
      "execution_count": 25,
      "outputs": []
    },
    {
      "cell_type": "code",
      "source": [
        "# Fit and transform the transactions into an array format\n",
        "te_ary = te.fit(transactions).transform(transactions)"
      ],
      "metadata": {
        "id": "RfX3EtyJOWBh"
      },
      "execution_count": 26,
      "outputs": []
    },
    {
      "cell_type": "code",
      "source": [
        "# Convert the array into a DataFrame\n",
        "basket = pd.DataFrame(te_ary, columns=te.columns_)"
      ],
      "metadata": {
        "id": "P7XlT14wOZWn"
      },
      "execution_count": 27,
      "outputs": []
    },
    {
      "cell_type": "code",
      "source": [
        "# Display the first few rows of the basket\n",
        "print(basket.head())"
      ],
      "metadata": {
        "colab": {
          "base_uri": "https://localhost:8080/"
        },
        "id": "s-tmGRNyOcA8",
        "outputId": "a1ef7f9d-bf23-4339-f3bc-843fe3e4e7ef"
      },
      "execution_count": 28,
      "outputs": [
        {
          "output_type": "stream",
          "name": "stdout",
          "text": [
            "   almonds  antioxydant juice  avocado  cottage cheese  energy drink  \\\n",
            "0     True               True     True            True          True   \n",
            "\n",
            "   frozen smoothie  green grapes  green tea  honey  low fat yogurt  \\\n",
            "0             True          True       True   True            True   \n",
            "\n",
            "   mineral water  olive oil  salad  salmon  shrimp  spinach  tomato juice  \\\n",
            "0           True       True   True    True    True     True          True   \n",
            "\n",
            "   vegetables mix  whole weat flour  yams  \n",
            "0            True              True  True  \n"
          ]
        }
      ]
    },
    {
      "cell_type": "code",
      "source": [
        "\n",
        "from mlxtend.preprocessing import TransactionEncoder\n",
        "\n",
        "# Example transactions (replace this with your actual transaction data)\n",
        "transactions = [\n",
        "    ['milk', 'bread', 'butter'],\n",
        "    ['bread', 'butter', 'jam'],\n",
        "    ['milk', 'bread'],\n",
        "]\n",
        "\n",
        "# Initialize TransactionEncoder\n",
        "te = TransactionEncoder()\n",
        "\n",
        "# Transform transactions into a one-hot encoded array\n",
        "te_ary = te.fit(transactions).transform(transactions)\n",
        "\n",
        "# Convert the array into a DataFrame\n",
        "basket = pd.DataFrame(te_ary, columns=te.columns_)\n",
        "\n",
        "# Check if `basket` is defined and properly structured\n",
        "print(basket.head())"
      ],
      "metadata": {
        "colab": {
          "base_uri": "https://localhost:8080/"
        },
        "id": "BDtu6YqTOjsd",
        "outputId": "c562a535-e0e7-473a-edc2-edbfc3b20d61"
      },
      "execution_count": 7,
      "outputs": [
        {
          "output_type": "stream",
          "name": "stdout",
          "text": [
            "   bread  butter    jam   milk\n",
            "0   True    True  False   True\n",
            "1   True    True   True  False\n",
            "2   True   False  False   True\n"
          ]
        },
        {
          "output_type": "stream",
          "name": "stderr",
          "text": [
            "/usr/local/lib/python3.10/dist-packages/ipykernel/ipkernel.py:283: DeprecationWarning: `should_run_async` will not call `transform_cell` automatically in the future. Please pass the result to `transformed_cell` argument and any exception that happen during thetransform in `preprocessing_exc_tuple` in IPython 7.17 and above.\n",
            "  and should_run_async(code)\n"
          ]
        }
      ]
    },
    {
      "cell_type": "code",
      "source": [
        "# Calculate the number of frequent itemsets\n",
        "num_itemsets = len(frequent_itemsets)\n",
        "\n",
        "# Generate the association rules with 'num_itemsets'\n",
        "rules = association_rules(frequent_itemsets, metric=\"lift\", min_threshold=1.0, num_itemsets=num_itemsets)\n",
        "\n",
        "# Display the rules\n",
        "print(rules.head())\n"
      ],
      "metadata": {
        "colab": {
          "base_uri": "https://localhost:8080/"
        },
        "id": "y3N5hb04OpwP",
        "outputId": "2366b481-83d3-46c7-cecb-6b70d59d9ecd"
      },
      "execution_count": 18,
      "outputs": [
        {
          "output_type": "stream",
          "name": "stdout",
          "text": [
            "  antecedents consequents  antecedent support  consequent support   support  \\\n",
            "0     (bread)    (butter)            1.000000            0.666667  0.666667   \n",
            "1    (butter)     (bread)            0.666667            1.000000  0.666667   \n",
            "2     (bread)       (jam)            1.000000            0.333333  0.333333   \n",
            "3       (jam)     (bread)            0.333333            1.000000  0.333333   \n",
            "4     (bread)      (milk)            1.000000            0.666667  0.666667   \n",
            "\n",
            "   confidence  lift  representativity  leverage  conviction  zhangs_metric  \\\n",
            "0    0.666667   1.0               1.0       0.0         1.0            0.0   \n",
            "1    1.000000   1.0               1.0       0.0         inf            0.0   \n",
            "2    0.333333   1.0               1.0       0.0         1.0            0.0   \n",
            "3    1.000000   1.0               1.0       0.0         inf            0.0   \n",
            "4    0.666667   1.0               1.0       0.0         1.0            0.0   \n",
            "\n",
            "    jaccard  certainty  kulczynski  \n",
            "0  0.666667        0.0    0.833333  \n",
            "1  0.666667        0.0    0.833333  \n",
            "2  0.333333        0.0    0.666667  \n",
            "3  0.333333        0.0    0.666667  \n",
            "4  0.666667        0.0    0.833333  \n"
          ]
        },
        {
          "output_type": "stream",
          "name": "stderr",
          "text": [
            "/usr/local/lib/python3.10/dist-packages/ipykernel/ipkernel.py:283: DeprecationWarning: `should_run_async` will not call `transform_cell` automatically in the future. Please pass the result to `transformed_cell` argument and any exception that happen during thetransform in `preprocessing_exc_tuple` in IPython 7.17 and above.\n",
            "  and should_run_async(code)\n",
            "/usr/local/lib/python3.10/dist-packages/mlxtend/frequent_patterns/association_rules.py:182: RuntimeWarning: invalid value encountered in divide\n",
            "  cert_metric = np.where(certainty_denom == 0, 0, certainty_num / certainty_denom)\n"
          ]
        }
      ]
    },
    {
      "cell_type": "code",
      "source": [
        "# Display the top 10 rules\n",
        "print(rules.head(10))"
      ],
      "metadata": {
        "colab": {
          "base_uri": "https://localhost:8080/"
        },
        "id": "gmLnhQiHOtUP",
        "outputId": "35408b5c-1c9e-46df-f63a-047a72a52c79"
      },
      "execution_count": 19,
      "outputs": [
        {
          "output_type": "stream",
          "name": "stdout",
          "text": [
            "       antecedents consequents  antecedent support  consequent support  \\\n",
            "0          (bread)    (butter)            1.000000            0.666667   \n",
            "1         (butter)     (bread)            0.666667            1.000000   \n",
            "2          (bread)       (jam)            1.000000            0.333333   \n",
            "3            (jam)     (bread)            0.333333            1.000000   \n",
            "4          (bread)      (milk)            1.000000            0.666667   \n",
            "5           (milk)     (bread)            0.666667            1.000000   \n",
            "6         (butter)       (jam)            0.666667            0.333333   \n",
            "7            (jam)    (butter)            0.333333            0.666667   \n",
            "8  (bread, butter)       (jam)            0.666667            0.333333   \n",
            "9     (bread, jam)    (butter)            0.333333            0.666667   \n",
            "\n",
            "    support  confidence  lift  representativity  leverage  conviction  \\\n",
            "0  0.666667    0.666667   1.0               1.0  0.000000    1.000000   \n",
            "1  0.666667    1.000000   1.0               1.0  0.000000         inf   \n",
            "2  0.333333    0.333333   1.0               1.0  0.000000    1.000000   \n",
            "3  0.333333    1.000000   1.0               1.0  0.000000         inf   \n",
            "4  0.666667    0.666667   1.0               1.0  0.000000    1.000000   \n",
            "5  0.666667    1.000000   1.0               1.0  0.000000         inf   \n",
            "6  0.333333    0.500000   1.5               1.0  0.111111    1.333333   \n",
            "7  0.333333    1.000000   1.5               1.0  0.111111         inf   \n",
            "8  0.333333    0.500000   1.5               1.0  0.111111    1.333333   \n",
            "9  0.333333    1.000000   1.5               1.0  0.111111         inf   \n",
            "\n",
            "   zhangs_metric   jaccard  certainty  kulczynski  \n",
            "0            0.0  0.666667       0.00    0.833333  \n",
            "1            0.0  0.666667       0.00    0.833333  \n",
            "2            0.0  0.333333       0.00    0.666667  \n",
            "3            0.0  0.333333       0.00    0.666667  \n",
            "4            0.0  0.666667       0.00    0.833333  \n",
            "5            0.0  0.666667       0.00    0.833333  \n",
            "6            1.0  0.500000       0.25    0.750000  \n",
            "7            0.5  0.500000       1.00    0.750000  \n",
            "8            1.0  0.500000       0.25    0.750000  \n",
            "9            0.5  0.500000       1.00    0.750000  \n"
          ]
        },
        {
          "output_type": "stream",
          "name": "stderr",
          "text": [
            "/usr/local/lib/python3.10/dist-packages/ipykernel/ipkernel.py:283: DeprecationWarning: `should_run_async` will not call `transform_cell` automatically in the future. Please pass the result to `transformed_cell` argument and any exception that happen during thetransform in `preprocessing_exc_tuple` in IPython 7.17 and above.\n",
            "  and should_run_async(code)\n"
          ]
        }
      ]
    },
    {
      "cell_type": "code",
      "source": [
        "# Interpretation of the results\n",
        "for index, rule in rules.head(10).iterrows():\n",
        "    antecedents = list(rule['antecedents'])\n",
        "    consequents = list(rule['consequents'])\n",
        "    print(f\"Rule: {antecedents} -> {consequents}\")\n",
        "    print(f\"Support: {rule['support']}\")\n",
        "    print(f\"Confidence: {rule['confidence']}\")\n",
        "    print(f\"Lift: {rule['lift']}\\n\")"
      ],
      "metadata": {
        "colab": {
          "base_uri": "https://localhost:8080/"
        },
        "id": "JYZSOi4oPCah",
        "outputId": "8b99b107-21fb-4f39-beba-7f8bfd21c66d"
      },
      "execution_count": 20,
      "outputs": [
        {
          "output_type": "stream",
          "name": "stdout",
          "text": [
            "Rule: ['bread'] -> ['butter']\n",
            "Support: 0.6666666666666666\n",
            "Confidence: 0.6666666666666666\n",
            "Lift: 1.0\n",
            "\n",
            "Rule: ['butter'] -> ['bread']\n",
            "Support: 0.6666666666666666\n",
            "Confidence: 1.0\n",
            "Lift: 1.0\n",
            "\n",
            "Rule: ['bread'] -> ['jam']\n",
            "Support: 0.3333333333333333\n",
            "Confidence: 0.3333333333333333\n",
            "Lift: 1.0\n",
            "\n",
            "Rule: ['jam'] -> ['bread']\n",
            "Support: 0.3333333333333333\n",
            "Confidence: 1.0\n",
            "Lift: 1.0\n",
            "\n",
            "Rule: ['bread'] -> ['milk']\n",
            "Support: 0.6666666666666666\n",
            "Confidence: 0.6666666666666666\n",
            "Lift: 1.0\n",
            "\n",
            "Rule: ['milk'] -> ['bread']\n",
            "Support: 0.6666666666666666\n",
            "Confidence: 1.0\n",
            "Lift: 1.0\n",
            "\n",
            "Rule: ['butter'] -> ['jam']\n",
            "Support: 0.3333333333333333\n",
            "Confidence: 0.5\n",
            "Lift: 1.5\n",
            "\n",
            "Rule: ['jam'] -> ['butter']\n",
            "Support: 0.3333333333333333\n",
            "Confidence: 1.0\n",
            "Lift: 1.5\n",
            "\n",
            "Rule: ['bread', 'butter'] -> ['jam']\n",
            "Support: 0.3333333333333333\n",
            "Confidence: 0.5\n",
            "Lift: 1.5\n",
            "\n",
            "Rule: ['bread', 'jam'] -> ['butter']\n",
            "Support: 0.3333333333333333\n",
            "Confidence: 1.0\n",
            "Lift: 1.5\n",
            "\n"
          ]
        },
        {
          "output_type": "stream",
          "name": "stderr",
          "text": [
            "/usr/local/lib/python3.10/dist-packages/ipykernel/ipkernel.py:283: DeprecationWarning: `should_run_async` will not call `transform_cell` automatically in the future. Please pass the result to `transformed_cell` argument and any exception that happen during thetransform in `preprocessing_exc_tuple` in IPython 7.17 and above.\n",
            "  and should_run_async(code)\n"
          ]
        }
      ]
    }
  ]
}