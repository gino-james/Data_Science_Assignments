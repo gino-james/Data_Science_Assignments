{
  "nbformat": 4,
  "nbformat_minor": 0,
  "metadata": {
    "colab": {
      "provenance": []
    },
    "kernelspec": {
      "name": "python3",
      "display_name": "Python 3"
    },
    "language_info": {
      "name": "python"
    }
  },
  "cells": [
    {
      "cell_type": "markdown",
      "source": [
        "Estimation And Confidence Intervals\n"
      ],
      "metadata": {
        "id": "Ceq0ak305qZB"
      }
    },
    {
      "cell_type": "code",
      "source": [
        "import numpy as np\n",
        "from scipy.stats import t"
      ],
      "metadata": {
        "id": "ruus6My95tyH"
      },
      "execution_count": 3,
      "outputs": []
    },
    {
      "cell_type": "code",
      "source": [
        "# Sample data\n",
        "data = np.array([1.13, 1.55, 1.43, 0.92, 1.25, 1.36, 1.32, 0.85, 1.07, 1.48, 1.20, 1.33, 1.18, 1.22, 1.29])\n",
        "sample_mean = np.mean(data)\n",
        "sample_std = np.std(data, ddof=1)\n",
        "sample_size = len(data)\n",
        "sample_mean"
      ],
      "metadata": {
        "colab": {
          "base_uri": "https://localhost:8080/"
        },
        "id": "gG8H0gqa5xCi",
        "outputId": "78c81e65-9e56-4928-c0bd-604a917850e2"
      },
      "execution_count": 4,
      "outputs": [
        {
          "output_type": "execute_result",
          "data": {
            "text/plain": [
              "1.2386666666666666"
            ]
          },
          "metadata": {},
          "execution_count": 4
        }
      ]
    },
    {
      "cell_type": "code",
      "source": [
        "sample_std"
      ],
      "metadata": {
        "colab": {
          "base_uri": "https://localhost:8080/"
        },
        "id": "dXakKasi5xHo",
        "outputId": "4cb10cc1-86a9-4492-981c-833e405b6692"
      },
      "execution_count": 5,
      "outputs": [
        {
          "output_type": "execute_result",
          "data": {
            "text/plain": [
              "0.19316412956959936"
            ]
          },
          "metadata": {},
          "execution_count": 5
        }
      ]
    },
    {
      "cell_type": "code",
      "source": [
        "sample_size"
      ],
      "metadata": {
        "colab": {
          "base_uri": "https://localhost:8080/"
        },
        "id": "zNHgbxNg5xL5",
        "outputId": "14614e40-e2db-425b-891f-4801944d7c6c"
      },
      "execution_count": 6,
      "outputs": [
        {
          "output_type": "execute_result",
          "data": {
            "text/plain": [
              "15"
            ]
          },
          "metadata": {},
          "execution_count": 6
        }
      ]
    },
    {
      "cell_type": "code",
      "source": [
        "##Confidence interval using sample standard deviation\n",
        "confidence_level = 0.99\n",
        "alpha = 1 - confidence_level\n",
        "t_value = t.ppf(1 - alpha/2, df=sample_size - 1)\n",
        "margin_of_error = t_value * sample_std / np.sqrt(sample_size)\n",
        "confidence_interval_a = (sample_mean - margin_of_error, sample_mean + margin_of_error)\n",
        "confidence_interval_a"
      ],
      "metadata": {
        "colab": {
          "base_uri": "https://localhost:8080/"
        },
        "id": "v3bfOhbY58y7",
        "outputId": "4d3b3cf2-7c3d-449d-ddd6-5bfc10a48717"
      },
      "execution_count": 7,
      "outputs": [
        {
          "output_type": "execute_result",
          "data": {
            "text/plain": [
              "(1.0901973384384906, 1.3871359948948425)"
            ]
          },
          "metadata": {},
          "execution_count": 7
        }
      ]
    },
    {
      "cell_type": "code",
      "source": [
        "#Confidence interval using known population standard deviation\n",
        "population_std = 0.2\n",
        "z_value = t.ppf(1 - alpha/2, df=sample_size - 1)\n",
        "margin_of_error_b = z_value * population_std / np.sqrt(sample_size)\n",
        "confidence_interval_b = (sample_mean - margin_of_error_b, sample_mean + margin_of_error_b)"
      ],
      "metadata": {
        "id": "XsVxKJVM586x"
      },
      "execution_count": 8,
      "outputs": []
    },
    {
      "cell_type": "code",
      "source": [
        "print(\"a. Confidence Interval Using Sample Standard Deviation:\", confidence_interval_a)\n",
        "print(\"b. Confidence Interval Using Known Population Standard Deviation:\", confidence_interval_b)"
      ],
      "metadata": {
        "colab": {
          "base_uri": "https://localhost:8080/"
        },
        "id": "fLG6sJm76JDL",
        "outputId": "dc1c4b4c-4fc0-4cff-b307-b204c8f92494"
      },
      "execution_count": 9,
      "outputs": [
        {
          "output_type": "stream",
          "name": "stdout",
          "text": [
            "a. Confidence Interval Using Sample Standard Deviation: (1.0901973384384906, 1.3871359948948425)\n",
            "b. Confidence Interval Using Known Population Standard Deviation: (1.0849431688733762, 1.392390164459957)\n"
          ]
        }
      ]
    }
  ]
}