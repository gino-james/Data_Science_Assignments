{
  "nbformat": 4,
  "nbformat_minor": 0,
  "metadata": {
    "colab": {
      "provenance": []
    },
    "kernelspec": {
      "name": "python3",
      "display_name": "Python 3"
    },
    "language_info": {
      "name": "python"
    }
  },
  "cells": [
    {
      "cell_type": "code",
      "execution_count": 1,
      "metadata": {
        "id": "SMNZRiJVUG3J"
      },
      "outputs": [],
      "source": [
        "import numpy as np\n",
        "from scipy.stats import t"
      ]
    },
    {
      "cell_type": "code",
      "source": [
        "# Given data\n",
        "sample_mean = 3050 # sample mean weekly cost\n",
        "theoretical_mean = 1000 + 5 * 600  # theoretical mean weekly cost according to the cost model (W = $1,000 + $5X for X = 600 units)\n",
        "standard_deviation = 5 * 25  # standard deviation of the population\n",
        "sample_size = 25  # sample size\n",
        "alpha = 0.05  # significance level"
      ],
      "metadata": {
        "id": "iGlNTDheU9Da"
      },
      "execution_count": 2,
      "outputs": []
    },
    {
      "cell_type": "code",
      "source": [
        "# Calculate the test statistic (t)\n",
        "standard_error = standard_deviation / np.sqrt(sample_size)\n",
        "t_statistic = (sample_mean - theoretical_mean) / standard_error"
      ],
      "metadata": {
        "id": "AaKlBqwRVUQ9"
      },
      "execution_count": 3,
      "outputs": []
    },
    {
      "cell_type": "code",
      "source": [
        "print(\"standard error\",standard_error)\n",
        "print(\"t statistic\",t_statistic)"
      ],
      "metadata": {
        "colab": {
          "base_uri": "https://localhost:8080/"
        },
        "id": "ZXd-Zpx5VXOl",
        "outputId": "73902a74-666a-482d-9c88-a6c2f74bf301"
      },
      "execution_count": 4,
      "outputs": [
        {
          "output_type": "stream",
          "name": "stdout",
          "text": [
            "standard error 25.0\n",
            "t statistic -38.0\n"
          ]
        }
      ]
    },
    {
      "cell_type": "code",
      "source": [
        "# Determine the critical value from the t-distribution\n",
        "degrees_of_freedom = sample_size - 1\n",
        "critical_value = t.ppf(1 - alpha, degrees_of_freedom)\n",
        "critical_value"
      ],
      "metadata": {
        "colab": {
          "base_uri": "https://localhost:8080/"
        },
        "id": "TjiiqeX7VaFA",
        "outputId": "78f9d723-be42-428d-eff5-44c131dd7979"
      },
      "execution_count": 7,
      "outputs": [
        {
          "output_type": "execute_result",
          "data": {
            "text/plain": [
              "1.7108820799094275"
            ]
          },
          "metadata": {},
          "execution_count": 7
        }
      ]
    }
  ]
}